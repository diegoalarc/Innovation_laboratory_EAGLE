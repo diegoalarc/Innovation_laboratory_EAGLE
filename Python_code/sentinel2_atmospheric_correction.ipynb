{
 "cells": [
  {
   "cell_type": "markdown",
   "metadata": {},
   "source": [
    "# Sentinel 2 Atmospheric Correction in Google Earth Engine"
   ]
  },
  {
   "cell_type": "markdown",
   "metadata": {},
   "source": [
    "### Import modules and initialize Earth Engine"
   ]
  },
  {
   "cell_type": "code",
   "execution_count": null,
   "metadata": {},
   "outputs": [],
   "source": [
    "# https://github.com/samsammurphy/gee-atmcorr-S2\n",
    "\n",
    "import ee\n",
    "import geemap\n",
    "#from Py6S import * #The Py6S package is embedded into the atmospheric functions\n",
    "import os, sys, time, math, datetime\n",
    "from atmospheric import atmCorr, S2_L1C\n",
    "#from atmospheric import Atmospheric, Conversion\n",
    "\n",
    "# Trigger the authentication flow.\n",
    "#ee.Authenticate()\n",
    "\n",
    "# Initialize the library.\n",
    "ee.Initialize()"
   ]
  },
  {
   "cell_type": "markdown",
   "metadata": {},
   "source": [
    "### Test SixS from Py6S package"
   ]
  },
  {
   "cell_type": "code",
   "execution_count": null,
   "metadata": {},
   "outputs": [],
   "source": [
    "# Instantiate\n",
    "#s = SixS()\n",
    "\n",
    "#SixS.test()\n",
    "\n",
    "# Update geemap package\n",
    "#geemap.update_package()"
   ]
  },
  {
   "cell_type": "markdown",
   "metadata": {},
   "source": [
    "### Define the time"
   ]
  },
  {
   "cell_type": "code",
   "execution_count": null,
   "metadata": {},
   "outputs": [],
   "source": [
    "# Define a year to calculate.\n",
    "# year1 should be between 2016 to 2019 for our case of study.\n",
    "# Create year1 = 2020 to apply Machine Learning model.\n",
    "year1 = 2020\n",
    "year2 = year1 + 1\n",
    "\n",
    "start = ee.Date(str(year1) + '-10-01')\n",
    "stop = ee.Date(str(year2) + '-01-01')\n",
    "\n",
    "# Percentage of cloud coverage only fot he year 2020 is 20% the other years are 40%\n",
    "percentage = 20"
   ]
  },
  {
   "cell_type": "markdown",
   "metadata": {},
   "source": [
    "### Region of study"
   ]
  },
  {
   "cell_type": "code",
   "execution_count": null,
   "metadata": {},
   "outputs": [],
   "source": [
    "# The following code will determine the region where the analysis is apply\n",
    "# Rectangle with the ROI\n",
    "geom = ee.Geometry.Rectangle(-70.8200199999999995, -33.7983520000000013, \n",
    "                             -70.8068049999999971, -33.7804399999999987)"
   ]
  },
  {
   "cell_type": "markdown",
   "metadata": {},
   "source": [
    "### Filter the Sentinel 2 collection & Path folder in GEE to save the imageColletion"
   ]
  },
  {
   "cell_type": "code",
   "execution_count": null,
   "metadata": {},
   "outputs": [],
   "source": [
    "# The following code will grab the ImageCollection on the dates and ROI.\n",
    "S2 = ee.ImageCollection('COPERNICUS/S2')\\\n",
    "     .filterBounds(geom)\\\n",
    "     .filterDate(start, stop)\\\n",
    "     .filterMetadata('CLOUDY_PIXEL_PERCENTAGE', 'less_than', percentage)\\\n",
    "     .sort('system:time_start')\\\n",
    "     .distinct('system:time_start')\n",
    "\n",
    "# GEE path to save the image inside of a image collection (GEE account)\n",
    "gpath = 'users/diegoalarcondiaz/tester/'"
   ]
  },
  {
   "cell_type": "markdown",
   "metadata": {},
   "source": [
    "### Application of Conversion from function S2_L1C"
   ]
  },
  {
   "cell_type": "code",
   "execution_count": null,
   "metadata": {},
   "outputs": [],
   "source": [
    "# Conversion function in a bash process\n",
    "S2_L1C.conversion(geom, S2, gpath)"
   ]
  },
  {
   "cell_type": "markdown",
   "metadata": {},
   "source": [
    "### Check image Sentinel-2\n",
    "\n",
    "Here we can check the beginning of the Sentinel-2 image collection TOA."
   ]
  },
  {
   "cell_type": "code",
   "execution_count": null,
   "metadata": {},
   "outputs": [],
   "source": [
    "# Create a default map\n",
    "Map = geemap.Map(center=[-70.81, -33.789], zoom=15)\n",
    "\n",
    "vis_params = {\"min\": 300,\n",
    "              \"max\": 3500,\n",
    "              \"bands\": [\"B4\", \"B3\", \"B2\"]}\n",
    "\n",
    "S2_TOA = ee.ImageCollection('COPERNICUS/S2')\\\n",
    "           .filterBounds(geom)\\\n",
    "           .filterDate(start, stop)\\\n",
    "           .filterMetadata('CLOUDY_PIXEL_PERCENTAGE', 'less_than', percentage)\n",
    "\n",
    "Map.centerObject(geom)\n",
    "Map.addLayer(S2_TOA, {}, \"Sentinel-2 TOA\", False)\n",
    "Map.add_time_slider(S2_TOA, vis_params)\n",
    "Map.addLayer(geom)\n",
    "Map"
   ]
  },
  {
   "cell_type": "code",
   "execution_count": null,
   "metadata": {},
   "outputs": [],
   "source": [
    "# Create a default map\n",
    "Map = geemap.Map(center=[-70.81, -33.789], zoom=15)\n",
    "\n",
    "vis_params = {\"min\": 0,\n",
    "              \"max\": 0.3,\n",
    "              \"bands\": [\"B4\", \"B3\", \"B2\"]}\n",
    "\n",
    "S2_BOA = ee.ImageCollection('users/diegoalarcondiaz/sen2_cor') \\\n",
    "             .filterBounds(geom) \\\n",
    "             .filterDate(start, stop)\n",
    "\n",
    "Map.centerObject(geom)\n",
    "Map.addLayer(S2_BOA, {}, \"Sentinel-2 BOA\", False)\n",
    "Map.add_time_slider(S2_BOA, vis_params)\n",
    "Map.addLayer(geom)\n",
    "Map"
   ]
  },
  {
   "cell_type": "code",
   "execution_count": null,
   "metadata": {},
   "outputs": [],
   "source": []
  }
 ],
 "metadata": {
  "anaconda-cloud": {},
  "kernelspec": {
   "display_name": "Python 3",
   "language": "python",
   "name": "python3"
  },
  "language_info": {
   "codemirror_mode": {
    "name": "ipython",
    "version": 3
   },
   "file_extension": ".py",
   "mimetype": "text/x-python",
   "name": "python",
   "nbconvert_exporter": "python",
   "pygments_lexer": "ipython3",
   "version": "3.7.7"
  }
 },
 "nbformat": 4,
 "nbformat_minor": 4
}
