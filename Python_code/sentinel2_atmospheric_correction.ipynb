{
 "cells": [
  {
   "cell_type": "markdown",
   "metadata": {},
   "source": [
    "# Sentinel 2 Atmospheric Correction in Google Earth Engine"
   ]
  },
  {
   "cell_type": "markdown",
   "metadata": {},
   "source": [
    "### Import modules \n",
    "and initialize Earth Engine"
   ]
  },
  {
   "cell_type": "code",
   "execution_count": null,
   "metadata": {},
   "outputs": [],
   "source": [
    "import ee\n",
    "import geemap\n",
    "from Py6S import *\n",
    "import datetime\n",
    "import math\n",
    "import os\n",
    "import sys\n",
    "from atmospheric import Atmospheric\n",
    "\n",
    "ee.Initialize()"
   ]
  },
  {
   "cell_type": "code",
   "execution_count": null,
   "metadata": {},
   "outputs": [],
   "source": [
    "#s = SixS()\n",
    "\n",
    "#SixS.test()"
   ]
  },
  {
   "cell_type": "markdown",
   "metadata": {},
   "source": [
    "### Function TOA to BOA"
   ]
  },
  {
   "cell_type": "code",
   "execution_count": null,
   "metadata": {},
   "outputs": [],
   "source": [
    "# Spectral Response functions\n",
    "def spectralResponseFunction(bandname):\n",
    "    \"\"\"\n",
    "    Extract spectral response function for given band name\n",
    "    \"\"\"\n",
    "    bandSelect = {\n",
    "        'B1':PredefinedWavelengths.S2A_MSI_01,\n",
    "        'B2':PredefinedWavelengths.S2A_MSI_02,\n",
    "        'B3':PredefinedWavelengths.S2A_MSI_03,\n",
    "        'B4':PredefinedWavelengths.S2A_MSI_04,\n",
    "        'B5':PredefinedWavelengths.S2A_MSI_05,\n",
    "        'B6':PredefinedWavelengths.S2A_MSI_06,\n",
    "        'B7':PredefinedWavelengths.S2A_MSI_07,\n",
    "        'B8':PredefinedWavelengths.S2A_MSI_08,\n",
    "        'B8A':PredefinedWavelengths.S2A_MSI_8A,\n",
    "        'B9':PredefinedWavelengths.S2A_MSI_09,\n",
    "        'B10':PredefinedWavelengths.S2A_MSI_10,\n",
    "        'B11':PredefinedWavelengths.S2A_MSI_11,\n",
    "        'B12':PredefinedWavelengths.S2A_MSI_12,\n",
    "        }\n",
    "\n",
    "    return Wavelength(bandSelect[bandname])\n",
    "\n",
    "# TOA Reflectance to Radiance\n",
    "def toa_to_rad(bandname):\n",
    "    \"\"\"\n",
    "    Converts top of atmosphere reflectance to at-sensor radiance\n",
    "    \"\"\"\n",
    "\n",
    "    # solar exoatmospheric spectral irradiance\n",
    "    ESUN = info['SOLAR_IRRADIANCE_'+bandname]\n",
    "    solar_angle_correction = math.cos(math.radians(solar_z))\n",
    "\n",
    "    # Earth-Sun distance (from day of year)\n",
    "    doy = scene_date.timetuple().tm_yday\n",
    "    d = 1 - 0.01672 * math.cos(0.9856 * (doy-4))\n",
    "    # http://physics.stackexchange.com/\n",
    "    # questions/177949/earth-sun-distance-on-a-given-day-of-the-year\n",
    "\n",
    "    # conversion factor\n",
    "    multiplier = ESUN*solar_angle_correction/(math.pi*d**2)\n",
    "\n",
    "    # at-sensor radiance\n",
    "    rad = toa.select(bandname).multiply(multiplier)\n",
    "\n",
    "    return rad\n",
    "\n",
    "# Radiance to Surface Reflectance\n",
    "def surface_reflectance(bandname):\n",
    "    \"\"\"\n",
    "    Calculate surface reflectance from at-sensor radiance given waveband name\n",
    "    \"\"\"\n",
    "\n",
    "    # run 6S for this waveband\n",
    "    s.wavelength = spectralResponseFunction(bandname)\n",
    "    # execute 6S objects\n",
    "    s.run()\n",
    "\n",
    "    # extract 6S outputs\n",
    "    Edir = s.outputs.direct_solar_irradiance                # irradiancia solar direct\n",
    "    Edif = s.outputs.diffuse_solar_irradiance               # irradiancia solar difFusE\n",
    "    Lp   = s.outputs.atmospheric_intrinsic_radiance         # path radiance\n",
    "    absorb  = s.outputs.trans['global_gas'].upward          # absorption transmissivity\n",
    "    scatter = s.outputs.trans['total_scattering'].upward    # scattering transmissivity\n",
    "    tau2 = absorb*scatter                                   # total transmissivity\n",
    "\n",
    "    # Note: s.outputs are calculated starting from 6S objects defined in `conversion` function\n",
    "\n",
    "    # radiance to surface reflectance\n",
    "    rad = toa_to_rad(bandname)\n",
    "    ref = rad.subtract(Lp).multiply(math.pi).divide(tau2*(Edir+Edif))\n",
    "\n",
    "\n",
    "    return ref"
   ]
  },
  {
   "cell_type": "markdown",
   "metadata": {},
   "source": [
    "### Main function"
   ]
  },
  {
   "cell_type": "code",
   "execution_count": null,
   "metadata": {},
   "outputs": [],
   "source": [
    "# Main function\n",
    "def conversion(img,gpath):\n",
    "\n",
    "    # write image date\n",
    "    date = img.date()\n",
    "\n",
    "    # Defining global variables:\n",
    "    global toa\n",
    "    global info\n",
    "    global scene_date\n",
    "    global solar_z\n",
    "    global s\n",
    "    \n",
    "    # top of atmosphere reflectance\n",
    "    toa = img.divide(10000)\n",
    "\n",
    "    # METADATA\n",
    "    info = img.getInfo()['properties']\n",
    "    scene_date = datetime.datetime\\\n",
    "        .utcfromtimestamp(info['system:time_start']/1000)\n",
    "    solar_z = info['MEAN_SOLAR_ZENITH_ANGLE']\n",
    "\n",
    "    # ATMOSPHERIC CONSTITUENTS\n",
    "    h2o = Atmospheric.water(geom,date).getInfo()\n",
    "    o3 = Atmospheric.ozone(geom,date).getInfo()\n",
    "    # Atmospheric Optical Thickness\n",
    "    aot = Atmospheric.aerosol(geom,date).getInfo()\n",
    "\n",
    "    # TARGET ALTITUDE (km)\n",
    "    SRTM = ee.Image('CGIAR/SRTM90_V4')\n",
    "    alt = SRTM.reduceRegion(reducer = ee.Reducer.mean(),\n",
    "        geometry = geom.centroid()).get('elevation').getInfo()\n",
    "    km = alt/1000 # i.e. Py6S uses units of kilometers\n",
    "    \n",
    "    # 6S OBJECT\n",
    "    # Instantiate\n",
    "    s = SixS()\n",
    "\n",
    "    # Atmospheric constituents\n",
    "    s.atmos_profile = AtmosProfile.UserWaterAndOzone(h2o,o3)\n",
    "    s.aero_profile = AeroProfile.Continental\n",
    "    s.aot550 = aot\n",
    "\n",
    "    # Earth-Sun-satellite geometry\n",
    "    s.geometry = Geometry.User()\n",
    "    s.geometry.view_z = 0               # cálculo asumiendo vision en NADIR\n",
    "    s.geometry.solar_z = solar_z        # ángulo cenital solar\n",
    "    s.geometry.month = scene_date.month # mes usado en la distancia Earth-Sun\n",
    "    s.geometry.day = scene_date.day     # día usado en la distancia Earth-Sun\n",
    "    s.altitudes\\\n",
    "        .set_sensor_satellite_level()   # Altitud del sensor\n",
    "    s.altitudes\\\n",
    "        .set_target_custom_altitude(km) # Altitud de la superficie\n",
    "\n",
    "    # ATMOSPHERIC CORRECTION (by waveband)\n",
    "    output = img.select('QA60')\n",
    "    for band in ['B1','B2','B3','B4','B5','B6','B7','B8','B8A','B9','B10','B11','B12']:\n",
    "             print(band)\n",
    "             output = output.addBands(surface_reflectance(band))\n",
    "             \n",
    "    # set some properties for export\n",
    "    dateString = scene_date.strftime(\"%Y-%m-%d\")\n",
    "    ref = output.set({'satellite':'Sentinel 2',\n",
    "                   'fileID':info['system:index'],\n",
    "                   'date':dateString,\n",
    "                   'aerosol_optical_thickness':aot,\n",
    "                   'water_vapour':h2o,\n",
    "                   'ozone':o3})\n",
    "\n",
    "    # define YOUR assetID or folder\n",
    "    assetID = gpath + dateString\n",
    "\n",
    "    # export\n",
    "    export = ee.batch.Export.image.toAsset(\\\n",
    "         image=ref,\n",
    "         description='sentinel2_atmcorr_export',\n",
    "         assetId = assetID,\n",
    "         region = region,\n",
    "         crs = 'EPSG:4326',\n",
    "         scale = 10)\n",
    "\n",
    "   \n",
    "    export.start()\n",
    "    # print a message for each exported image\n",
    "    return print(\"image \"+ assetID +\" exported\")\n",
    "\n",
    "# End of main function"
   ]
  },
  {
   "cell_type": "markdown",
   "metadata": {},
   "source": [
    "### time and place\n",
    "Define the time."
   ]
  },
  {
   "cell_type": "code",
   "execution_count": null,
   "metadata": {},
   "outputs": [],
   "source": [
    "# Define a year to calculate.\n",
    "# year1 should be between 2016 to 2019 for our case of study.\n",
    "# Create year1 = 2020 to apply Machine Learning model.\n",
    "year1 = 2020\n",
    "year2 = year1 + 1\n",
    "\n",
    "start = ee.Date(str(year1) + '-10-01')\n",
    "stop = ee.Date(str(year2) + '-01-01')\n",
    "\n",
    "# Percentage cloud coverage\n",
    "percentage = 20"
   ]
  },
  {
   "cell_type": "markdown",
   "metadata": {},
   "source": [
    "### Region of study\n",
    "The following code will determine the region where the analysis is apply"
   ]
  },
  {
   "cell_type": "code",
   "execution_count": null,
   "metadata": {},
   "outputs": [],
   "source": [
    "# Rectangle with the ROI\n",
    "geom = ee.Geometry.Rectangle(-70.8200199999999995, -33.7983520000000013, \n",
    "                             -70.8068049999999971, -33.7804399999999987)\n",
    "\n",
    "region = geom.buffer(1000).bounds().getInfo()['coordinates']"
   ]
  },
  {
   "cell_type": "markdown",
   "metadata": {},
   "source": [
    "### Filter the Sentinel 2 collection\n",
    "The following code will grab the ImageCollection on the dates and ROI."
   ]
  },
  {
   "cell_type": "code",
   "execution_count": null,
   "metadata": {},
   "outputs": [],
   "source": [
    "S2 = ee.ImageCollection('COPERNICUS/S2')\\\n",
    ".filterBounds(geom)\\\n",
    ".filterDate(start, stop)\\\n",
    ".filterMetadata('CLOUDY_PIXEL_PERCENTAGE', 'less_than', percentage)\\\n",
    ".sort('system:time_start')\\\n",
    ".distinct('system:time_start')\n",
    "\n",
    "# GEE path to save the image inside of a image collection (GEE account)\n",
    "gpath = 'users/diegoalarcondiaz/sen2_cor/'\n",
    "\n",
    "# List with images to filter\n",
    "features = S2.getInfo()['features']\n",
    "#print(features)\n",
    "\n",
    "# Automatic correction\n",
    "for i in features:\n",
    "    #print(i)\n",
    "    id = i['id']\n",
    "    conversion(ee.Image(id),gpath)"
   ]
  }
 ],
 "metadata": {
  "anaconda-cloud": {},
  "kernelspec": {
   "display_name": "Python 3",
   "language": "python",
   "name": "python3"
  },
  "language_info": {
   "codemirror_mode": {
    "name": "ipython",
    "version": 3
   },
   "file_extension": ".py",
   "mimetype": "text/x-python",
   "name": "python",
   "nbconvert_exporter": "python",
   "pygments_lexer": "ipython3",
   "version": "3.7.7"
  }
 },
 "nbformat": 4,
 "nbformat_minor": 4
}
